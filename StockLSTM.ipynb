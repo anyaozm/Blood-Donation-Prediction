{
  "nbformat": 4,
  "nbformat_minor": 0,
  "metadata": {
    "colab": {
      "name": "Copy of StockLSTM.ipynb",
      "provenance": [],
      "collapsed_sections": [],
      "authorship_tag": "ABX9TyN70sz+ZV3wPVtq0UnzzLVw",
      "include_colab_link": true
    },
    "kernelspec": {
      "name": "python3",
      "display_name": "Python 3"
    }
  },
  "cells": [
    {
      "cell_type": "markdown",
      "metadata": {
        "id": "view-in-github",
        "colab_type": "text"
      },
      "source": [
        "<a href=\"https://colab.research.google.com/github/anyaozm/Blood-Donation-Prediction/blob/master/StockLSTM.ipynb\" target=\"_parent\"><img src=\"https://colab.research.google.com/assets/colab-badge.svg\" alt=\"Open In Colab\"/></a>"
      ]
    },
    {
      "cell_type": "code",
      "metadata": {
        "id": "fbQmd-C2BcDZ",
        "colab_type": "code",
        "colab": {}
      },
      "source": [
        "#Desc: LSTM for Closing Stock Price"
      ],
      "execution_count": 0,
      "outputs": []
    },
    {
      "cell_type": "code",
      "metadata": {
        "id": "toywXcKrBosK",
        "colab_type": "code",
        "colab": {
          "base_uri": "https://localhost:8080/",
          "height": 127
        },
        "outputId": "cd9c4f29-c930-4c76-b8cb-babb7e43ae85"
      },
      "source": [
        "#import\n",
        "%tensorflow_version 1.x\n",
        "import tensorflow.compat.v1 as tf\n",
        "tf.disable_v2_behavior()\n",
        "import math\n",
        "import pandas_datareader as web\n",
        "import numpy as np\n",
        "import pandas as pd\n",
        "from sklearn.preprocessing import MinMaxScaler\n",
        "from keras.models import Sequential\n",
        "from keras.layers import Dense, LSTM \n",
        "import matplotlib.pyplot as plt\n",
        "plt.style.use('fivethirtyeight')"
      ],
      "execution_count": 2,
      "outputs": [
        {
          "output_type": "stream",
          "text": [
            "TensorFlow 1.x selected.\n",
            "WARNING:tensorflow:From /tensorflow-1.15.2/python3.6/tensorflow_core/python/compat/v2_compat.py:68: disable_resource_variables (from tensorflow.python.ops.variable_scope) is deprecated and will be removed in a future version.\n",
            "Instructions for updating:\n",
            "non-resource variables are not supported in the long term\n"
          ],
          "name": "stdout"
        },
        {
          "output_type": "stream",
          "text": [
            "Using TensorFlow backend.\n"
          ],
          "name": "stderr"
        }
      ]
    },
    {
      "cell_type": "code",
      "metadata": {
        "id": "0LKPuq751vAd",
        "colab_type": "code",
        "colab": {}
      },
      "source": [
        ""
      ],
      "execution_count": 0,
      "outputs": []
    },
    {
      "cell_type": "code",
      "metadata": {
        "id": "H76fGETyCApG",
        "colab_type": "code",
        "colab": {}
      },
      "source": [
        "df = web.DataReader('SPY', data_source='yahoo', start='1960-01-01', end='2020-03-24')"
      ],
      "execution_count": 0,
      "outputs": []
    },
    {
      "cell_type": "code",
      "metadata": {
        "id": "rM3nP35lCK4q",
        "colab_type": "code",
        "outputId": "3c00a40d-60ed-4402-fb63-2bce47b56d9d",
        "colab": {
          "base_uri": "https://localhost:8080/",
          "height": 450
        }
      },
      "source": [
        "df"
      ],
      "execution_count": 4,
      "outputs": [
        {
          "output_type": "execute_result",
          "data": {
            "text/html": [
              "<div>\n",
              "<style scoped>\n",
              "    .dataframe tbody tr th:only-of-type {\n",
              "        vertical-align: middle;\n",
              "    }\n",
              "\n",
              "    .dataframe tbody tr th {\n",
              "        vertical-align: top;\n",
              "    }\n",
              "\n",
              "    .dataframe thead th {\n",
              "        text-align: right;\n",
              "    }\n",
              "</style>\n",
              "<table border=\"1\" class=\"dataframe\">\n",
              "  <thead>\n",
              "    <tr style=\"text-align: right;\">\n",
              "      <th></th>\n",
              "      <th>High</th>\n",
              "      <th>Low</th>\n",
              "      <th>Open</th>\n",
              "      <th>Close</th>\n",
              "      <th>Volume</th>\n",
              "      <th>Adj Close</th>\n",
              "    </tr>\n",
              "    <tr>\n",
              "      <th>Date</th>\n",
              "      <th></th>\n",
              "      <th></th>\n",
              "      <th></th>\n",
              "      <th></th>\n",
              "      <th></th>\n",
              "      <th></th>\n",
              "    </tr>\n",
              "  </thead>\n",
              "  <tbody>\n",
              "    <tr>\n",
              "      <th>1993-01-29</th>\n",
              "      <td>43.968750</td>\n",
              "      <td>43.750000</td>\n",
              "      <td>43.968750</td>\n",
              "      <td>43.937500</td>\n",
              "      <td>1003200.0</td>\n",
              "      <td>26.299288</td>\n",
              "    </tr>\n",
              "    <tr>\n",
              "      <th>1993-02-01</th>\n",
              "      <td>44.250000</td>\n",
              "      <td>43.968750</td>\n",
              "      <td>43.968750</td>\n",
              "      <td>44.250000</td>\n",
              "      <td>480500.0</td>\n",
              "      <td>26.486324</td>\n",
              "    </tr>\n",
              "    <tr>\n",
              "      <th>1993-02-02</th>\n",
              "      <td>44.375000</td>\n",
              "      <td>44.125000</td>\n",
              "      <td>44.218750</td>\n",
              "      <td>44.343750</td>\n",
              "      <td>201300.0</td>\n",
              "      <td>26.542448</td>\n",
              "    </tr>\n",
              "    <tr>\n",
              "      <th>1993-02-03</th>\n",
              "      <td>44.843750</td>\n",
              "      <td>44.375000</td>\n",
              "      <td>44.406250</td>\n",
              "      <td>44.812500</td>\n",
              "      <td>529400.0</td>\n",
              "      <td>26.822998</td>\n",
              "    </tr>\n",
              "    <tr>\n",
              "      <th>1993-02-04</th>\n",
              "      <td>45.093750</td>\n",
              "      <td>44.468750</td>\n",
              "      <td>44.968750</td>\n",
              "      <td>45.000000</td>\n",
              "      <td>531500.0</td>\n",
              "      <td>26.935240</td>\n",
              "    </tr>\n",
              "    <tr>\n",
              "      <th>...</th>\n",
              "      <td>...</td>\n",
              "      <td>...</td>\n",
              "      <td>...</td>\n",
              "      <td>...</td>\n",
              "      <td>...</td>\n",
              "      <td>...</td>\n",
              "    </tr>\n",
              "    <tr>\n",
              "      <th>2020-03-18</th>\n",
              "      <td>248.369995</td>\n",
              "      <td>228.020004</td>\n",
              "      <td>236.250000</td>\n",
              "      <td>240.000000</td>\n",
              "      <td>327597100.0</td>\n",
              "      <td>238.596985</td>\n",
              "    </tr>\n",
              "    <tr>\n",
              "      <th>2020-03-19</th>\n",
              "      <td>247.380005</td>\n",
              "      <td>232.220001</td>\n",
              "      <td>239.250000</td>\n",
              "      <td>240.509995</td>\n",
              "      <td>289322000.0</td>\n",
              "      <td>239.103989</td>\n",
              "    </tr>\n",
              "    <tr>\n",
              "      <th>2020-03-20</th>\n",
              "      <td>244.470001</td>\n",
              "      <td>228.500000</td>\n",
              "      <td>242.529999</td>\n",
              "      <td>228.800003</td>\n",
              "      <td>347158800.0</td>\n",
              "      <td>228.800003</td>\n",
              "    </tr>\n",
              "    <tr>\n",
              "      <th>2020-03-23</th>\n",
              "      <td>229.679993</td>\n",
              "      <td>218.259995</td>\n",
              "      <td>228.190002</td>\n",
              "      <td>222.949997</td>\n",
              "      <td>326025200.0</td>\n",
              "      <td>222.949997</td>\n",
              "    </tr>\n",
              "    <tr>\n",
              "      <th>2020-03-24</th>\n",
              "      <td>244.100006</td>\n",
              "      <td>233.800003</td>\n",
              "      <td>234.419998</td>\n",
              "      <td>243.149994</td>\n",
              "      <td>235494500.0</td>\n",
              "      <td>243.149994</td>\n",
              "    </tr>\n",
              "  </tbody>\n",
              "</table>\n",
              "<p>6837 rows × 6 columns</p>\n",
              "</div>"
            ],
            "text/plain": [
              "                  High         Low  ...       Volume   Adj Close\n",
              "Date                                ...                         \n",
              "1993-01-29   43.968750   43.750000  ...    1003200.0   26.299288\n",
              "1993-02-01   44.250000   43.968750  ...     480500.0   26.486324\n",
              "1993-02-02   44.375000   44.125000  ...     201300.0   26.542448\n",
              "1993-02-03   44.843750   44.375000  ...     529400.0   26.822998\n",
              "1993-02-04   45.093750   44.468750  ...     531500.0   26.935240\n",
              "...                ...         ...  ...          ...         ...\n",
              "2020-03-18  248.369995  228.020004  ...  327597100.0  238.596985\n",
              "2020-03-19  247.380005  232.220001  ...  289322000.0  239.103989\n",
              "2020-03-20  244.470001  228.500000  ...  347158800.0  228.800003\n",
              "2020-03-23  229.679993  218.259995  ...  326025200.0  222.949997\n",
              "2020-03-24  244.100006  233.800003  ...  235494500.0  243.149994\n",
              "\n",
              "[6837 rows x 6 columns]"
            ]
          },
          "metadata": {
            "tags": []
          },
          "execution_count": 4
        }
      ]
    },
    {
      "cell_type": "code",
      "metadata": {
        "id": "79Oc2ySeCLek",
        "colab_type": "code",
        "outputId": "fbd923ea-91d0-4fc9-f375-7057becad754",
        "colab": {
          "base_uri": "https://localhost:8080/",
          "height": 35
        }
      },
      "source": [
        "#Get rows and columns\n",
        "df.shape"
      ],
      "execution_count": 5,
      "outputs": [
        {
          "output_type": "execute_result",
          "data": {
            "text/plain": [
              "(6837, 6)"
            ]
          },
          "metadata": {
            "tags": []
          },
          "execution_count": 5
        }
      ]
    },
    {
      "cell_type": "code",
      "metadata": {
        "id": "g2ThFyIYC1vD",
        "colab_type": "code",
        "outputId": "c55d646a-d1ba-4c30-e571-ff85328e461d",
        "colab": {
          "base_uri": "https://localhost:8080/",
          "height": 704
        }
      },
      "source": [
        "#visualize\n",
        "plt.figure(figsize=(16,8))\n",
        "plt.title('Close Price')\n",
        "plt.plot(df['Close'])\n",
        "plt.xlabel('Date',fontsize=18)\n",
        "plt.xlabel('Price',fontsize=18)"
      ],
      "execution_count": 6,
      "outputs": [
        {
          "output_type": "stream",
          "text": [
            "/usr/local/lib/python3.6/dist-packages/pandas/plotting/_matplotlib/converter.py:103: FutureWarning: Using an implicitly registered datetime converter for a matplotlib plotting method. The converter was registered by pandas on import. Future versions of pandas will require you to explicitly register matplotlib converters.\n",
            "\n",
            "To register the converters:\n",
            "\t>>> from pandas.plotting import register_matplotlib_converters\n",
            "\t>>> register_matplotlib_converters()\n",
            "  warnings.warn(msg, FutureWarning)\n"
          ],
          "name": "stderr"
        },
        {
          "output_type": "execute_result",
          "data": {
            "text/plain": [
              "Text(0.5, 0, 'Price')"
            ]
          },
          "metadata": {
            "tags": []
          },
          "execution_count": 6
        },
        {
          "output_type": "display_data",
          "data": {
            "image/png": "[encoded data removed]",
            "text/plain": [
              "<Figure size 1152x576 with 1 Axes>"
            ]
          },
          "metadata": {
            "tags": []
          }
        }
      ]
    },
    {
      "cell_type": "code",
      "metadata": {
        "id": "v2EVlBsAGIJo",
        "colab_type": "code",
        "outputId": "52a00cbd-6bcd-4ede-96f8-7510ead2a024",
        "colab": {
          "base_uri": "https://localhost:8080/",
          "height": 35
        }
      },
      "source": [
        "#Create df with only close\n",
        "data =df.filter(['Close'])\n",
        "#convert the df into a numpy array\n",
        "dataset=data.values\n",
        "#get the number of rows to train\n",
        "training_data_len = math.ceil(len(dataset)*.8) #math.ceil to round up\n",
        "\n",
        "training_data_len"
      ],
      "execution_count": 7,
      "outputs": [
        {
          "output_type": "execute_result",
          "data": {
            "text/plain": [
              "5470"
            ]
          },
          "metadata": {
            "tags": []
          },
          "execution_count": 7
        }
      ]
    },
    {
      "cell_type": "code",
      "metadata": {
        "id": "JbzLyIxtGaCL",
        "colab_type": "code",
        "colab": {}
      },
      "source": [
        "\n",
        "#Scale data\n",
        "scaler = MinMaxScaler(feature_range=(0,1))\n",
        "scaled_data = scaler.fit_transform(dataset)"
      ],
      "execution_count": 0,
      "outputs": []
    },
    {
      "cell_type": "code",
      "metadata": {
        "id": "tkAE6DowuvKf",
        "colab_type": "code",
        "outputId": "9454ad1b-6107-4412-b60d-88c264be07eb",
        "colab": {
          "base_uri": "https://localhost:8080/",
          "height": 179
        }
      },
      "source": [
        "#Create training dataset\n",
        "train_data = scaled_data[0:training_data_len, :] #after the comma for columns\n",
        "#Split data \n",
        "x_train = []\n",
        "y_train = []\n",
        "\n",
        "for i in range(10, len(train_data)): #60 days\n",
        "  x_train.append(train_data[i-10:i,0]) #not including i and 0th column\n",
        "  y_train.append(train_data[i, 0])\n",
        "  if i<=11:\n",
        "    print(x_train)\n",
        "    print(y_train)\n",
        "    print()"
      ],
      "execution_count": 9,
      "outputs": [
        {
          "output_type": "stream",
          "text": [
            "[array([0.00180125, 0.00286081, 0.00317868, 0.00476802, 0.00540376,\n",
            "       0.0052978 , 0.0052978 , 0.00423824, 0.00445015, 0.00519184])]\n",
            "[0.004026327996524137]\n",
            "\n",
            "[array([0.00180125, 0.00286081, 0.00317868, 0.00476802, 0.00540376,\n",
            "       0.0052978 , 0.0052978 , 0.00423824, 0.00445015, 0.00519184]), array([0.00286081, 0.00317868, 0.00476802, 0.00540376, 0.0052978 ,\n",
            "       0.0052978 , 0.00423824, 0.00445015, 0.00519184, 0.00402633])]\n",
            "[0.004026327996524137, 0.00021191199981704378]\n",
            "\n"
          ],
          "name": "stdout"
        }
      ]
    },
    {
      "cell_type": "code",
      "metadata": {
        "id": "BBK-NJIYuyfr",
        "colab_type": "code",
        "colab": {}
      },
      "source": [
        "#convert train data to numpy arrays\n",
        "x_train, y_train = np.array(x_train), np.array(y_train)"
      ],
      "execution_count": 0,
      "outputs": []
    },
    {
      "cell_type": "code",
      "metadata": {
        "id": "kKRQHCXVzMLj",
        "colab_type": "code",
        "outputId": "817b85fa-991d-48f4-a693-a452b7a303df",
        "colab": {
          "base_uri": "https://localhost:8080/",
          "height": 35
        }
      },
      "source": [
        "#reshape LSTM is 3 dimensional rows, timesteps, number of features\n",
        "x_train = np.reshape(x_train, (x_train.shape[0], x_train.shape[1], 1))\n",
        "x_train.shape"
      ],
      "execution_count": 11,
      "outputs": [
        {
          "output_type": "execute_result",
          "data": {
            "text/plain": [
              "(5460, 10, 1)"
            ]
          },
          "metadata": {
            "tags": []
          },
          "execution_count": 11
        }
      ]
    },
    {
      "cell_type": "code",
      "metadata": {
        "id": "WIbmK5QczSMt",
        "colab_type": "code",
        "colab": {}
      },
      "source": [
        "#Build LSTM model\n",
        "model =Sequential()\n",
        "model.add(LSTM(100, return_sequences=True, input_shape=(x_train.shape[1],1)))\n",
        "model.add(LSTM(50, return_sequences=False))\n",
        "model.add(Dense(25))\n",
        "model.add(Dense(1))"
      ],
      "execution_count": 0,
      "outputs": []
    },
    {
      "cell_type": "code",
      "metadata": {
        "id": "xB5lsn760Hie",
        "colab_type": "code",
        "colab": {}
      },
      "source": [
        "#Compile model\n",
        "model.compile(optimizer='adam', loss='mean_squared_error')"
      ],
      "execution_count": 0,
      "outputs": []
    },
    {
      "cell_type": "code",
      "metadata": {
        "id": "iNgcfC7R0jfF",
        "colab_type": "code",
        "outputId": "4aa97935-61fd-4e0f-e9a5-3f732368ad72",
        "colab": {
          "base_uri": "https://localhost:8080/",
          "height": 757
        }
      },
      "source": [
        "#Train model batch is total number of sample, epochs is the number of iters when it's passed\n",
        "model.fit(x_train, y_train, batch_size=20, epochs=10)"
      ],
      "execution_count": 14,
      "outputs": [
        {
          "output_type": "stream",
          "text": [
            "WARNING:tensorflow:From /tensorflow-1.15.2/python3.6/tensorflow_core/python/ops/math_grad.py:1424: where (from tensorflow.python.ops.array_ops) is deprecated and will be removed in a future version.\n",
            "Instructions for updating:\n",
            "Use tf.where in 2.0, which has the same broadcast rule as np.where\n",
            "WARNING:tensorflow:From /usr/local/lib/python3.6/dist-packages/keras/backend/tensorflow_backend.py:1033: The name tf.assign_add is deprecated. Please use tf.compat.v1.assign_add instead.\n",
            "\n",
            "WARNING:tensorflow:From /usr/local/lib/python3.6/dist-packages/keras/backend/tensorflow_backend.py:1020: The name tf.assign is deprecated. Please use tf.compat.v1.assign instead.\n",
            "\n",
            "WARNING:tensorflow:From /usr/local/lib/python3.6/dist-packages/keras/backend/tensorflow_backend.py:3005: The name tf.Session is deprecated. Please use tf.compat.v1.Session instead.\n",
            "\n",
            "Epoch 1/10\n",
            "WARNING:tensorflow:From /usr/local/lib/python3.6/dist-packages/keras/backend/tensorflow_backend.py:190: The name tf.get_default_session is deprecated. Please use tf.compat.v1.get_default_session instead.\n",
            "\n",
            "WARNING:tensorflow:From /usr/local/lib/python3.6/dist-packages/keras/backend/tensorflow_backend.py:197: The name tf.ConfigProto is deprecated. Please use tf.compat.v1.ConfigProto instead.\n",
            "\n",
            "WARNING:tensorflow:From /usr/local/lib/python3.6/dist-packages/keras/backend/tensorflow_backend.py:207: The name tf.global_variables is deprecated. Please use tf.compat.v1.global_variables instead.\n",
            "\n",
            "WARNING:tensorflow:From /usr/local/lib/python3.6/dist-packages/keras/backend/tensorflow_backend.py:216: The name tf.is_variable_initialized is deprecated. Please use tf.compat.v1.is_variable_initialized instead.\n",
            "\n",
            "WARNING:tensorflow:From /usr/local/lib/python3.6/dist-packages/keras/backend/tensorflow_backend.py:223: The name tf.variables_initializer is deprecated. Please use tf.compat.v1.variables_initializer instead.\n",
            "\n",
            "5460/5460 [==============================] - 6s 1ms/step - loss: 0.0016\n",
            "Epoch 2/10\n",
            "5460/5460 [==============================] - 5s 840us/step - loss: 7.2604e-05\n",
            "Epoch 3/10\n",
            "5460/5460 [==============================] - 5s 860us/step - loss: 7.3233e-05\n",
            "Epoch 4/10\n",
            "5460/5460 [==============================] - 5s 830us/step - loss: 7.1993e-05\n",
            "Epoch 5/10\n",
            "5460/5460 [==============================] - 5s 855us/step - loss: 7.1605e-05\n",
            "Epoch 6/10\n",
            "5460/5460 [==============================] - 5s 856us/step - loss: 7.6918e-05\n",
            "Epoch 7/10\n",
            "5460/5460 [==============================] - 5s 852us/step - loss: 6.4790e-05\n",
            "Epoch 8/10\n",
            "5460/5460 [==============================] - 5s 825us/step - loss: 6.0903e-05\n",
            "Epoch 9/10\n",
            "5460/5460 [==============================] - 5s 825us/step - loss: 6.6041e-05\n",
            "Epoch 10/10\n",
            "5460/5460 [==============================] - 5s 828us/step - loss: 5.7585e-05\n"
          ],
          "name": "stdout"
        },
        {
          "output_type": "execute_result",
          "data": {
            "text/plain": [
              "<keras.callbacks.History at 0x7f084ce80080>"
            ]
          },
          "metadata": {
            "tags": []
          },
          "execution_count": 14
        }
      ]
    },
    {
      "cell_type": "code",
      "metadata": {
        "id": "STYsdn5s0ri1",
        "colab_type": "code",
        "colab": {}
      },
      "source": [
        "#create test data \n",
        "#create an array with scaled values from index 1543 to 2003\n",
        "test_data = scaled_data[training_data_len - 10: 6837,:]\n",
        "#create x_test and y_test\n",
        "x_test= []\n",
        "y_test = dataset[training_data_len:,:]\n",
        "for i in range(10, len(test_data)):\n",
        "  x_test.append(test_data[i-10:i, 0])"
      ],
      "execution_count": 0,
      "outputs": []
    },
    {
      "cell_type": "code",
      "metadata": {
        "id": "tkm_2GIVPZDw",
        "colab_type": "code",
        "colab": {}
      },
      "source": [
        ""
      ],
      "execution_count": 0,
      "outputs": []
    },
    {
      "cell_type": "code",
      "metadata": {
        "id": "nRVjccLf1jDZ",
        "colab_type": "code",
        "colab": {}
      },
      "source": [
        "#convert data to a numpy array\n",
        "x_test = np.array(x_test)"
      ],
      "execution_count": 0,
      "outputs": []
    },
    {
      "cell_type": "code",
      "metadata": {
        "id": "ZSZf8P4o2Lyg",
        "colab_type": "code",
        "colab": {}
      },
      "source": [
        "#reshape\n",
        "x_test = np.reshape(x_test,(x_test.shape[0], x_test.shape[1], 1))"
      ],
      "execution_count": 0,
      "outputs": []
    },
    {
      "cell_type": "code",
      "metadata": {
        "id": "H_BZoHPI2hHB",
        "colab_type": "code",
        "colab": {}
      },
      "source": [
        "#Get the models predicted price values\n",
        "predictions = model.predict(x_test)\n",
        "#rescale back to normal\n",
        "predictions = scaler.inverse_transform(predictions)"
      ],
      "execution_count": 0,
      "outputs": []
    },
    {
      "cell_type": "code",
      "metadata": {
        "id": "LXHrGIFX3IFn",
        "colab_type": "code",
        "outputId": "a655ead6-35cb-43c8-ce2e-492c68c59779",
        "colab": {
          "base_uri": "https://localhost:8080/",
          "height": 35
        }
      },
      "source": [
        "#evalute get root mean squared error (RMSE) measures how good it is lower the better\n",
        "rmse = np.sqrt(np.mean(predictions- y_test)**2)\n",
        "rmse"
      ],
      "execution_count": 19,
      "outputs": [
        {
          "output_type": "execute_result",
          "data": {
            "text/plain": [
              "0.13348829580556762"
            ]
          },
          "metadata": {
            "tags": []
          },
          "execution_count": 19
        }
      ]
    },
    {
      "cell_type": "code",
      "metadata": {
        "id": "R6z6wLya3dZO",
        "colab_type": "code",
        "outputId": "7a84e116-81da-424e-d8bb-67a580fc38fb",
        "colab": {
          "base_uri": "https://localhost:8080/",
          "height": 666
        }
      },
      "source": [
        "#Plot data\n",
        "train = data[:training_data_len]\n",
        "validation = data[training_data_len:]\n",
        "validation['Predictions'] = predictions\n",
        "#Visualize\n",
        "plt.figure(figsize=(16,8))\n",
        "plt.title('Model')\n",
        "plt.xlabel('Date', fontsize=18)\n",
        "plt.ylabel('Close Price USD($)', fontsize=18)\n",
        "plt.plot(train['Close'])\n",
        "plt.plot(validation[['Close', 'Predictions']])\n",
        "plt.legend(['Train','Val', 'Predictions'])\n",
        "plt.show()"
      ],
      "execution_count": 20,
      "outputs": [
        {
          "output_type": "stream",
          "text": [
            "/usr/local/lib/python3.6/dist-packages/ipykernel_launcher.py:3: SettingWithCopyWarning: \n",
            "A value is trying to be set on a copy of a slice from a DataFrame.\n",
            "Try using .loc[row_indexer,col_indexer] = value instead\n",
            "\n",
            "See the caveats in the documentation: http://pandas.pydata.org/pandas-docs/stable/user_guide/indexing.html#returning-a-view-versus-a-copy\n",
            "  This is separate from the ipykernel package so we can avoid doing imports until\n"
          ],
          "name": "stderr"
        },
        {
          "output_type": "display_data",
          "data": {
            "image/png": "[encoded data removed]",
            "text/plain": [
              "<Figure size 1152x576 with 1 Axes>"
            ]
          },
          "metadata": {
            "tags": []
          }
        }
      ]
    },
    {
      "cell_type": "code",
      "metadata": {
        "id": "_Qye_7qL4Vv-",
        "colab_type": "code",
        "outputId": "c43650c9-c02e-4f90-f07e-2a7366d2f977",
        "colab": {
          "base_uri": "https://localhost:8080/",
          "height": 450
        }
      },
      "source": [
        "#Show the actual and predicted\n",
        "validation"
      ],
      "execution_count": 21,
      "outputs": [
        {
          "output_type": "execute_result",
          "data": {
            "text/html": [
              "<div>\n",
              "<style scoped>\n",
              "    .dataframe tbody tr th:only-of-type {\n",
              "        vertical-align: middle;\n",
              "    }\n",
              "\n",
              "    .dataframe tbody tr th {\n",
              "        vertical-align: top;\n",
              "    }\n",
              "\n",
              "    .dataframe thead th {\n",
              "        text-align: right;\n",
              "    }\n",
              "</style>\n",
              "<table border=\"1\" class=\"dataframe\">\n",
              "  <thead>\n",
              "    <tr style=\"text-align: right;\">\n",
              "      <th></th>\n",
              "      <th>Close</th>\n",
              "      <th>Predictions</th>\n",
              "    </tr>\n",
              "    <tr>\n",
              "      <th>Date</th>\n",
              "      <th></th>\n",
              "      <th></th>\n",
              "    </tr>\n",
              "  </thead>\n",
              "  <tbody>\n",
              "    <tr>\n",
              "      <th>2014-10-17</th>\n",
              "      <td>188.470001</td>\n",
              "      <td>188.658905</td>\n",
              "    </tr>\n",
              "    <tr>\n",
              "      <th>2014-10-20</th>\n",
              "      <td>190.300003</td>\n",
              "      <td>188.182220</td>\n",
              "    </tr>\n",
              "    <tr>\n",
              "      <th>2014-10-21</th>\n",
              "      <td>194.070007</td>\n",
              "      <td>188.425125</td>\n",
              "    </tr>\n",
              "    <tr>\n",
              "      <th>2014-10-22</th>\n",
              "      <td>192.690002</td>\n",
              "      <td>189.592224</td>\n",
              "    </tr>\n",
              "    <tr>\n",
              "      <th>2014-10-23</th>\n",
              "      <td>194.929993</td>\n",
              "      <td>190.751190</td>\n",
              "    </tr>\n",
              "    <tr>\n",
              "      <th>...</th>\n",
              "      <td>...</td>\n",
              "      <td>...</td>\n",
              "    </tr>\n",
              "    <tr>\n",
              "      <th>2020-03-18</th>\n",
              "      <td>240.000000</td>\n",
              "      <td>258.639496</td>\n",
              "    </tr>\n",
              "    <tr>\n",
              "      <th>2020-03-19</th>\n",
              "      <td>240.509995</td>\n",
              "      <td>252.981674</td>\n",
              "    </tr>\n",
              "    <tr>\n",
              "      <th>2020-03-20</th>\n",
              "      <td>228.800003</td>\n",
              "      <td>248.445724</td>\n",
              "    </tr>\n",
              "    <tr>\n",
              "      <th>2020-03-23</th>\n",
              "      <td>222.949997</td>\n",
              "      <td>243.080719</td>\n",
              "    </tr>\n",
              "    <tr>\n",
              "      <th>2020-03-24</th>\n",
              "      <td>243.149994</td>\n",
              "      <td>237.220840</td>\n",
              "    </tr>\n",
              "  </tbody>\n",
              "</table>\n",
              "<p>1367 rows × 2 columns</p>\n",
              "</div>"
            ],
            "text/plain": [
              "                 Close  Predictions\n",
              "Date                               \n",
              "2014-10-17  188.470001   188.658905\n",
              "2014-10-20  190.300003   188.182220\n",
              "2014-10-21  194.070007   188.425125\n",
              "2014-10-22  192.690002   189.592224\n",
              "2014-10-23  194.929993   190.751190\n",
              "...                ...          ...\n",
              "2020-03-18  240.000000   258.639496\n",
              "2020-03-19  240.509995   252.981674\n",
              "2020-03-20  228.800003   248.445724\n",
              "2020-03-23  222.949997   243.080719\n",
              "2020-03-24  243.149994   237.220840\n",
              "\n",
              "[1367 rows x 2 columns]"
            ]
          },
          "metadata": {
            "tags": []
          },
          "execution_count": 21
        }
      ]
    },
    {
      "cell_type": "code",
      "metadata": {
        "id": "Yvkyszdf5eH4",
        "colab_type": "code",
        "outputId": "7ef13a13-76a0-4a86-907b-0acf0e8aeb9d",
        "colab": {
          "base_uri": "https://localhost:8080/",
          "height": 35
        }
      },
      "source": [
        "#get the quote \n",
        "apple_quote = web.DataReader('SPY', data_source='yahoo', start='1960-01-01', end='2020-03-24')\n",
        "#Create a new df\n",
        "new_df = apple_quote.filter(['Close'])\n",
        "#get the last 60 day closing price vals and convert data to an array\n",
        "last_10_days = new_df[-10:].values\n",
        "#Scale the data to be between 0-1\n",
        "last_10_days_scaled = scaler.transform(last_10_days)\n",
        "#create empty list\n",
        "X_test = []\n",
        "#Append past 10 days\n",
        "X_test.append(last_10_days_scaled)\n",
        "#convert X_test to a numpy array\n",
        "X_test = np.array(X_test)\n",
        "#reshape 3D\n",
        "X_test =np.reshape(X_test, (X_test.shape[0], X_test.shape[1],1))\n",
        "#Get the predicted scaled price\n",
        "pred_price = model.predict(X_test)\n",
        "#undo scaling\n",
        "pred_price =scaler.inverse_transform(pred_price)\n",
        "print(pred_price)"
      ],
      "execution_count": 22,
      "outputs": [
        {
          "output_type": "stream",
          "text": [
            "[[236.01973]]\n"
          ],
          "name": "stdout"
        }
      ]
    },
    {
      "cell_type": "code",
      "metadata": {
        "id": "nueZdL5S6Exm",
        "colab_type": "code",
        "outputId": "7bd6c7bc-5416-428a-9a0a-19b0423a7438",
        "colab": {
          "base_uri": "https://localhost:8080/",
          "height": 251
        }
      },
      "source": [
        "#get the quote \n",
        "apple_quote2 = web.DataReader('SPY', data_source='yahoo', start='2020-03-10', end='2020-03-24')\n",
        "print(apple_quote2['Close'])"
      ],
      "execution_count": 23,
      "outputs": [
        {
          "output_type": "stream",
          "text": [
            "Date\n",
            "2020-03-10    288.420013\n",
            "2020-03-11    274.359985\n",
            "2020-03-12    248.110001\n",
            "2020-03-13    269.320007\n",
            "2020-03-16    239.850006\n",
            "2020-03-17    252.800003\n",
            "2020-03-18    240.000000\n",
            "2020-03-19    240.509995\n",
            "2020-03-20    228.800003\n",
            "2020-03-23    222.949997\n",
            "2020-03-24    243.149994\n",
            "Name: Close, dtype: float64\n"
          ],
          "name": "stdout"
        }
      ]
    },
    {
      "cell_type": "code",
      "metadata": {
        "id": "raNCZvMO7LZq",
        "colab_type": "code",
        "outputId": "bdcdfb23-5d10-4a7e-f9fc-146306dbddb6",
        "colab": {
          "base_uri": "https://localhost:8080/",
          "height": 233
        }
      },
      "source": [
        "validation['Pr1'] = validation['Close'].shift(-1)\n",
        "validation['Pr2'] = validation['Predictions'].shift(-1)"
      ],
      "execution_count": 24,
      "outputs": [
        {
          "output_type": "stream",
          "text": [
            "/usr/local/lib/python3.6/dist-packages/ipykernel_launcher.py:1: SettingWithCopyWarning: \n",
            "A value is trying to be set on a copy of a slice from a DataFrame.\n",
            "Try using .loc[row_indexer,col_indexer] = value instead\n",
            "\n",
            "See the caveats in the documentation: http://pandas.pydata.org/pandas-docs/stable/user_guide/indexing.html#returning-a-view-versus-a-copy\n",
            "  \"\"\"Entry point for launching an IPython kernel.\n",
            "/usr/local/lib/python3.6/dist-packages/ipykernel_launcher.py:2: SettingWithCopyWarning: \n",
            "A value is trying to be set on a copy of a slice from a DataFrame.\n",
            "Try using .loc[row_indexer,col_indexer] = value instead\n",
            "\n",
            "See the caveats in the documentation: http://pandas.pydata.org/pandas-docs/stable/user_guide/indexing.html#returning-a-view-versus-a-copy\n",
            "  \n"
          ],
          "name": "stderr"
        }
      ]
    },
    {
      "cell_type": "code",
      "metadata": {
        "id": "D9ec6nVNx2gp",
        "colab_type": "code",
        "colab": {
          "base_uri": "https://localhost:8080/",
          "height": 233
        },
        "outputId": "f02b30d5-4196-46ac-d9b1-1705be0d175d"
      },
      "source": [
        "validation['Pricediff1'] = validation['Pr1']- validation['Close']\n",
        "validation['Pricediff2'] =validation['Pr2']- validation['Predictions']"
      ],
      "execution_count": 25,
      "outputs": [
        {
          "output_type": "stream",
          "text": [
            "/usr/local/lib/python3.6/dist-packages/ipykernel_launcher.py:1: SettingWithCopyWarning: \n",
            "A value is trying to be set on a copy of a slice from a DataFrame.\n",
            "Try using .loc[row_indexer,col_indexer] = value instead\n",
            "\n",
            "See the caveats in the documentation: http://pandas.pydata.org/pandas-docs/stable/user_guide/indexing.html#returning-a-view-versus-a-copy\n",
            "  \"\"\"Entry point for launching an IPython kernel.\n",
            "/usr/local/lib/python3.6/dist-packages/ipykernel_launcher.py:2: SettingWithCopyWarning: \n",
            "A value is trying to be set on a copy of a slice from a DataFrame.\n",
            "Try using .loc[row_indexer,col_indexer] = value instead\n",
            "\n",
            "See the caveats in the documentation: http://pandas.pydata.org/pandas-docs/stable/user_guide/indexing.html#returning-a-view-versus-a-copy\n",
            "  \n"
          ],
          "name": "stderr"
        }
      ]
    },
    {
      "cell_type": "code",
      "metadata": {
        "id": "Jhs8kQlbx1p4",
        "colab_type": "code",
        "colab": {
          "base_uri": "https://localhost:8080/",
          "height": 233
        },
        "outputId": "2a6610ef-3852-41a7-c9e5-3153389a2c84"
      },
      "source": [
        "validation['Daily Return'] = validation['Pricediff1']/validation['Close']\n",
        "validation['Daily Return2'] = validation['Pricediff2']/validation['Predictions']"
      ],
      "execution_count": 26,
      "outputs": [
        {
          "output_type": "stream",
          "text": [
            "/usr/local/lib/python3.6/dist-packages/ipykernel_launcher.py:1: SettingWithCopyWarning: \n",
            "A value is trying to be set on a copy of a slice from a DataFrame.\n",
            "Try using .loc[row_indexer,col_indexer] = value instead\n",
            "\n",
            "See the caveats in the documentation: http://pandas.pydata.org/pandas-docs/stable/user_guide/indexing.html#returning-a-view-versus-a-copy\n",
            "  \"\"\"Entry point for launching an IPython kernel.\n",
            "/usr/local/lib/python3.6/dist-packages/ipykernel_launcher.py:2: SettingWithCopyWarning: \n",
            "A value is trying to be set on a copy of a slice from a DataFrame.\n",
            "Try using .loc[row_indexer,col_indexer] = value instead\n",
            "\n",
            "See the caveats in the documentation: http://pandas.pydata.org/pandas-docs/stable/user_guide/indexing.html#returning-a-view-versus-a-copy\n",
            "  \n"
          ],
          "name": "stderr"
        }
      ]
    },
    {
      "cell_type": "code",
      "metadata": {
        "id": "rX4yYN_5yc8c",
        "colab_type": "code",
        "colab": {
          "base_uri": "https://localhost:8080/",
          "height": 450
        },
        "outputId": "74b8d269-6ba1-416e-caaf-76453597da72"
      },
      "source": [
        "validation"
      ],
      "execution_count": 27,
      "outputs": [
        {
          "output_type": "execute_result",
          "data": {
            "text/html": [
              "<div>\n",
              "<style scoped>\n",
              "    .dataframe tbody tr th:only-of-type {\n",
              "        vertical-align: middle;\n",
              "    }\n",
              "\n",
              "    .dataframe tbody tr th {\n",
              "        vertical-align: top;\n",
              "    }\n",
              "\n",
              "    .dataframe thead th {\n",
              "        text-align: right;\n",
              "    }\n",
              "</style>\n",
              "<table border=\"1\" class=\"dataframe\">\n",
              "  <thead>\n",
              "    <tr style=\"text-align: right;\">\n",
              "      <th></th>\n",
              "      <th>Close</th>\n",
              "      <th>Predictions</th>\n",
              "      <th>Pr1</th>\n",
              "      <th>Pr2</th>\n",
              "      <th>Pricediff1</th>\n",
              "      <th>Pricediff2</th>\n",
              "      <th>Daily Return</th>\n",
              "      <th>Daily Return2</th>\n",
              "    </tr>\n",
              "    <tr>\n",
              "      <th>Date</th>\n",
              "      <th></th>\n",
              "      <th></th>\n",
              "      <th></th>\n",
              "      <th></th>\n",
              "      <th></th>\n",
              "      <th></th>\n",
              "      <th></th>\n",
              "      <th></th>\n",
              "    </tr>\n",
              "  </thead>\n",
              "  <tbody>\n",
              "    <tr>\n",
              "      <th>2014-10-17</th>\n",
              "      <td>188.470001</td>\n",
              "      <td>188.658905</td>\n",
              "      <td>190.300003</td>\n",
              "      <td>188.182220</td>\n",
              "      <td>1.830002</td>\n",
              "      <td>-0.476685</td>\n",
              "      <td>0.009710</td>\n",
              "      <td>-0.002527</td>\n",
              "    </tr>\n",
              "    <tr>\n",
              "      <th>2014-10-20</th>\n",
              "      <td>190.300003</td>\n",
              "      <td>188.182220</td>\n",
              "      <td>194.070007</td>\n",
              "      <td>188.425125</td>\n",
              "      <td>3.770004</td>\n",
              "      <td>0.242905</td>\n",
              "      <td>0.019811</td>\n",
              "      <td>0.001291</td>\n",
              "    </tr>\n",
              "    <tr>\n",
              "      <th>2014-10-21</th>\n",
              "      <td>194.070007</td>\n",
              "      <td>188.425125</td>\n",
              "      <td>192.690002</td>\n",
              "      <td>189.592224</td>\n",
              "      <td>-1.380005</td>\n",
              "      <td>1.167099</td>\n",
              "      <td>-0.007111</td>\n",
              "      <td>0.006194</td>\n",
              "    </tr>\n",
              "    <tr>\n",
              "      <th>2014-10-22</th>\n",
              "      <td>192.690002</td>\n",
              "      <td>189.592224</td>\n",
              "      <td>194.929993</td>\n",
              "      <td>190.751190</td>\n",
              "      <td>2.239990</td>\n",
              "      <td>1.158966</td>\n",
              "      <td>0.011625</td>\n",
              "      <td>0.006113</td>\n",
              "    </tr>\n",
              "    <tr>\n",
              "      <th>2014-10-23</th>\n",
              "      <td>194.929993</td>\n",
              "      <td>190.751190</td>\n",
              "      <td>196.429993</td>\n",
              "      <td>192.086075</td>\n",
              "      <td>1.500000</td>\n",
              "      <td>1.334885</td>\n",
              "      <td>0.007695</td>\n",
              "      <td>0.006998</td>\n",
              "    </tr>\n",
              "    <tr>\n",
              "      <th>...</th>\n",
              "      <td>...</td>\n",
              "      <td>...</td>\n",
              "      <td>...</td>\n",
              "      <td>...</td>\n",
              "      <td>...</td>\n",
              "      <td>...</td>\n",
              "      <td>...</td>\n",
              "      <td>...</td>\n",
              "    </tr>\n",
              "    <tr>\n",
              "      <th>2020-03-18</th>\n",
              "      <td>240.000000</td>\n",
              "      <td>258.639496</td>\n",
              "      <td>240.509995</td>\n",
              "      <td>252.981674</td>\n",
              "      <td>0.509995</td>\n",
              "      <td>-5.657822</td>\n",
              "      <td>0.002125</td>\n",
              "      <td>-0.021875</td>\n",
              "    </tr>\n",
              "    <tr>\n",
              "      <th>2020-03-19</th>\n",
              "      <td>240.509995</td>\n",
              "      <td>252.981674</td>\n",
              "      <td>228.800003</td>\n",
              "      <td>248.445724</td>\n",
              "      <td>-11.709991</td>\n",
              "      <td>-4.535950</td>\n",
              "      <td>-0.048688</td>\n",
              "      <td>-0.017930</td>\n",
              "    </tr>\n",
              "    <tr>\n",
              "      <th>2020-03-20</th>\n",
              "      <td>228.800003</td>\n",
              "      <td>248.445724</td>\n",
              "      <td>222.949997</td>\n",
              "      <td>243.080719</td>\n",
              "      <td>-5.850006</td>\n",
              "      <td>-5.365005</td>\n",
              "      <td>-0.025568</td>\n",
              "      <td>-0.021594</td>\n",
              "    </tr>\n",
              "    <tr>\n",
              "      <th>2020-03-23</th>\n",
              "      <td>222.949997</td>\n",
              "      <td>243.080719</td>\n",
              "      <td>243.149994</td>\n",
              "      <td>237.220840</td>\n",
              "      <td>20.199997</td>\n",
              "      <td>-5.859879</td>\n",
              "      <td>0.090603</td>\n",
              "      <td>-0.024107</td>\n",
              "    </tr>\n",
              "    <tr>\n",
              "      <th>2020-03-24</th>\n",
              "      <td>243.149994</td>\n",
              "      <td>237.220840</td>\n",
              "      <td>NaN</td>\n",
              "      <td>NaN</td>\n",
              "      <td>NaN</td>\n",
              "      <td>NaN</td>\n",
              "      <td>NaN</td>\n",
              "      <td>NaN</td>\n",
              "    </tr>\n",
              "  </tbody>\n",
              "</table>\n",
              "<p>1367 rows × 8 columns</p>\n",
              "</div>"
            ],
            "text/plain": [
              "                 Close  Predictions  ...  Daily Return  Daily Return2\n",
              "Date                                 ...                             \n",
              "2014-10-17  188.470001   188.658905  ...      0.009710      -0.002527\n",
              "2014-10-20  190.300003   188.182220  ...      0.019811       0.001291\n",
              "2014-10-21  194.070007   188.425125  ...     -0.007111       0.006194\n",
              "2014-10-22  192.690002   189.592224  ...      0.011625       0.006113\n",
              "2014-10-23  194.929993   190.751190  ...      0.007695       0.006998\n",
              "...                ...          ...  ...           ...            ...\n",
              "2020-03-18  240.000000   258.639496  ...      0.002125      -0.021875\n",
              "2020-03-19  240.509995   252.981674  ...     -0.048688      -0.017930\n",
              "2020-03-20  228.800003   248.445724  ...     -0.025568      -0.021594\n",
              "2020-03-23  222.949997   243.080719  ...      0.090603      -0.024107\n",
              "2020-03-24  243.149994   237.220840  ...           NaN            NaN\n",
              "\n",
              "[1367 rows x 8 columns]"
            ]
          },
          "metadata": {
            "tags": []
          },
          "execution_count": 27
        }
      ]
    },
    {
      "cell_type": "code",
      "metadata": {
        "id": "4IKNePhGyiv6",
        "colab_type": "code",
        "colab": {
          "base_uri": "https://localhost:8080/",
          "height": 233
        },
        "outputId": "e13637b5-5caf-4a0b-b7d2-4bcd94bfef43"
      },
      "source": [
        "validation['Direction Real'] = [1 if validation.loc[i, 'Pricediff1'] > 0 else -1\n",
        "                                for i in validation.index]\n",
        "validation['Direction Prediction'] = [1 if validation.loc[i, 'Pricediff2'] > 0 else -1\n",
        "                                for i in validation.index]"
      ],
      "execution_count": 28,
      "outputs": [
        {
          "output_type": "stream",
          "text": [
            "/usr/local/lib/python3.6/dist-packages/ipykernel_launcher.py:2: SettingWithCopyWarning: \n",
            "A value is trying to be set on a copy of a slice from a DataFrame.\n",
            "Try using .loc[row_indexer,col_indexer] = value instead\n",
            "\n",
            "See the caveats in the documentation: http://pandas.pydata.org/pandas-docs/stable/user_guide/indexing.html#returning-a-view-versus-a-copy\n",
            "  \n",
            "/usr/local/lib/python3.6/dist-packages/ipykernel_launcher.py:4: SettingWithCopyWarning: \n",
            "A value is trying to be set on a copy of a slice from a DataFrame.\n",
            "Try using .loc[row_indexer,col_indexer] = value instead\n",
            "\n",
            "See the caveats in the documentation: http://pandas.pydata.org/pandas-docs/stable/user_guide/indexing.html#returning-a-view-versus-a-copy\n",
            "  after removing the cwd from sys.path.\n"
          ],
          "name": "stderr"
        }
      ]
    },
    {
      "cell_type": "code",
      "metadata": {
        "id": "cAC7J_xpy38S",
        "colab_type": "code",
        "colab": {
          "base_uri": "https://localhost:8080/",
          "height": 125
        },
        "outputId": "219a9052-1500-4350-ea72-7d0dcc83b6d4"
      },
      "source": [
        "validation['Compare'] = [1 if validation.loc[i, 'Direction Real'] == validation.loc[i, 'Direction Prediction'] else 0 for i in validation.index]"
      ],
      "execution_count": 29,
      "outputs": [
        {
          "output_type": "stream",
          "text": [
            "/usr/local/lib/python3.6/dist-packages/ipykernel_launcher.py:1: SettingWithCopyWarning: \n",
            "A value is trying to be set on a copy of a slice from a DataFrame.\n",
            "Try using .loc[row_indexer,col_indexer] = value instead\n",
            "\n",
            "See the caveats in the documentation: http://pandas.pydata.org/pandas-docs/stable/user_guide/indexing.html#returning-a-view-versus-a-copy\n",
            "  \"\"\"Entry point for launching an IPython kernel.\n"
          ],
          "name": "stderr"
        }
      ]
    },
    {
      "cell_type": "code",
      "metadata": {
        "id": "iXkXNVMDy6sE",
        "colab_type": "code",
        "colab": {
          "base_uri": "https://localhost:8080/",
          "height": 35
        },
        "outputId": "a2ee60c9-46c8-4d4c-fed1-f7a416124797"
      },
      "source": [
        "validation['Compare'].sum()"
      ],
      "execution_count": 30,
      "outputs": [
        {
          "output_type": "execute_result",
          "data": {
            "text/plain": [
              "678"
            ]
          },
          "metadata": {
            "tags": []
          },
          "execution_count": 30
        }
      ]
    },
    {
      "cell_type": "code",
      "metadata": {
        "id": "e1NYNdQ3zV7i",
        "colab_type": "code",
        "colab": {
          "base_uri": "https://localhost:8080/",
          "height": 35
        },
        "outputId": "84fa22a8-95b3-4a23-ef88-6347be9227ac"
      },
      "source": [
        "len(validation['Compare'])"
      ],
      "execution_count": 31,
      "outputs": [
        {
          "output_type": "execute_result",
          "data": {
            "text/plain": [
              "1367"
            ]
          },
          "metadata": {
            "tags": []
          },
          "execution_count": 31
        }
      ]
    },
    {
      "cell_type": "code",
      "metadata": {
        "id": "54MSzl3Wz4NQ",
        "colab_type": "code",
        "colab": {
          "base_uri": "https://localhost:8080/",
          "height": 450
        },
        "outputId": "21999a86-ded4-41ca-cb82-541463082170"
      },
      "source": [
        "validation"
      ],
      "execution_count": 33,
      "outputs": [
        {
          "output_type": "execute_result",
          "data": {
            "text/html": [
              "<div>\n",
              "<style scoped>\n",
              "    .dataframe tbody tr th:only-of-type {\n",
              "        vertical-align: middle;\n",
              "    }\n",
              "\n",
              "    .dataframe tbody tr th {\n",
              "        vertical-align: top;\n",
              "    }\n",
              "\n",
              "    .dataframe thead th {\n",
              "        text-align: right;\n",
              "    }\n",
              "</style>\n",
              "<table border=\"1\" class=\"dataframe\">\n",
              "  <thead>\n",
              "    <tr style=\"text-align: right;\">\n",
              "      <th></th>\n",
              "      <th>Close</th>\n",
              "      <th>Predictions</th>\n",
              "      <th>Pr1</th>\n",
              "      <th>Pr2</th>\n",
              "      <th>Pricediff1</th>\n",
              "      <th>Pricediff2</th>\n",
              "      <th>Daily Return</th>\n",
              "      <th>Daily Return2</th>\n",
              "      <th>Direction Real</th>\n",
              "      <th>Direction Prediction</th>\n",
              "      <th>Compare</th>\n",
              "    </tr>\n",
              "    <tr>\n",
              "      <th>Date</th>\n",
              "      <th></th>\n",
              "      <th></th>\n",
              "      <th></th>\n",
              "      <th></th>\n",
              "      <th></th>\n",
              "      <th></th>\n",
              "      <th></th>\n",
              "      <th></th>\n",
              "      <th></th>\n",
              "      <th></th>\n",
              "      <th></th>\n",
              "    </tr>\n",
              "  </thead>\n",
              "  <tbody>\n",
              "    <tr>\n",
              "      <th>2014-10-17</th>\n",
              "      <td>188.470001</td>\n",
              "      <td>188.658905</td>\n",
              "      <td>190.300003</td>\n",
              "      <td>188.182220</td>\n",
              "      <td>1.830002</td>\n",
              "      <td>-0.476685</td>\n",
              "      <td>0.009710</td>\n",
              "      <td>-0.002527</td>\n",
              "      <td>1</td>\n",
              "      <td>-1</td>\n",
              "      <td>0</td>\n",
              "    </tr>\n",
              "    <tr>\n",
              "      <th>2014-10-20</th>\n",
              "      <td>190.300003</td>\n",
              "      <td>188.182220</td>\n",
              "      <td>194.070007</td>\n",
              "      <td>188.425125</td>\n",
              "      <td>3.770004</td>\n",
              "      <td>0.242905</td>\n",
              "      <td>0.019811</td>\n",
              "      <td>0.001291</td>\n",
              "      <td>1</td>\n",
              "      <td>1</td>\n",
              "      <td>1</td>\n",
              "    </tr>\n",
              "    <tr>\n",
              "      <th>2014-10-21</th>\n",
              "      <td>194.070007</td>\n",
              "      <td>188.425125</td>\n",
              "      <td>192.690002</td>\n",
              "      <td>189.592224</td>\n",
              "      <td>-1.380005</td>\n",
              "      <td>1.167099</td>\n",
              "      <td>-0.007111</td>\n",
              "      <td>0.006194</td>\n",
              "      <td>-1</td>\n",
              "      <td>1</td>\n",
              "      <td>0</td>\n",
              "    </tr>\n",
              "    <tr>\n",
              "      <th>2014-10-22</th>\n",
              "      <td>192.690002</td>\n",
              "      <td>189.592224</td>\n",
              "      <td>194.929993</td>\n",
              "      <td>190.751190</td>\n",
              "      <td>2.239990</td>\n",
              "      <td>1.158966</td>\n",
              "      <td>0.011625</td>\n",
              "      <td>0.006113</td>\n",
              "      <td>1</td>\n",
              "      <td>1</td>\n",
              "      <td>1</td>\n",
              "    </tr>\n",
              "    <tr>\n",
              "      <th>2014-10-23</th>\n",
              "      <td>194.929993</td>\n",
              "      <td>190.751190</td>\n",
              "      <td>196.429993</td>\n",
              "      <td>192.086075</td>\n",
              "      <td>1.500000</td>\n",
              "      <td>1.334885</td>\n",
              "      <td>0.007695</td>\n",
              "      <td>0.006998</td>\n",
              "      <td>1</td>\n",
              "      <td>1</td>\n",
              "      <td>1</td>\n",
              "    </tr>\n",
              "    <tr>\n",
              "      <th>...</th>\n",
              "      <td>...</td>\n",
              "      <td>...</td>\n",
              "      <td>...</td>\n",
              "      <td>...</td>\n",
              "      <td>...</td>\n",
              "      <td>...</td>\n",
              "      <td>...</td>\n",
              "      <td>...</td>\n",
              "      <td>...</td>\n",
              "      <td>...</td>\n",
              "      <td>...</td>\n",
              "    </tr>\n",
              "    <tr>\n",
              "      <th>2020-03-18</th>\n",
              "      <td>240.000000</td>\n",
              "      <td>258.639496</td>\n",
              "      <td>240.509995</td>\n",
              "      <td>252.981674</td>\n",
              "      <td>0.509995</td>\n",
              "      <td>-5.657822</td>\n",
              "      <td>0.002125</td>\n",
              "      <td>-0.021875</td>\n",
              "      <td>1</td>\n",
              "      <td>-1</td>\n",
              "      <td>0</td>\n",
              "    </tr>\n",
              "    <tr>\n",
              "      <th>2020-03-19</th>\n",
              "      <td>240.509995</td>\n",
              "      <td>252.981674</td>\n",
              "      <td>228.800003</td>\n",
              "      <td>248.445724</td>\n",
              "      <td>-11.709991</td>\n",
              "      <td>-4.535950</td>\n",
              "      <td>-0.048688</td>\n",
              "      <td>-0.017930</td>\n",
              "      <td>-1</td>\n",
              "      <td>-1</td>\n",
              "      <td>1</td>\n",
              "    </tr>\n",
              "    <tr>\n",
              "      <th>2020-03-20</th>\n",
              "      <td>228.800003</td>\n",
              "      <td>248.445724</td>\n",
              "      <td>222.949997</td>\n",
              "      <td>243.080719</td>\n",
              "      <td>-5.850006</td>\n",
              "      <td>-5.365005</td>\n",
              "      <td>-0.025568</td>\n",
              "      <td>-0.021594</td>\n",
              "      <td>-1</td>\n",
              "      <td>-1</td>\n",
              "      <td>1</td>\n",
              "    </tr>\n",
              "    <tr>\n",
              "      <th>2020-03-23</th>\n",
              "      <td>222.949997</td>\n",
              "      <td>243.080719</td>\n",
              "      <td>243.149994</td>\n",
              "      <td>237.220840</td>\n",
              "      <td>20.199997</td>\n",
              "      <td>-5.859879</td>\n",
              "      <td>0.090603</td>\n",
              "      <td>-0.024107</td>\n",
              "      <td>1</td>\n",
              "      <td>-1</td>\n",
              "      <td>0</td>\n",
              "    </tr>\n",
              "    <tr>\n",
              "      <th>2020-03-24</th>\n",
              "      <td>243.149994</td>\n",
              "      <td>237.220840</td>\n",
              "      <td>NaN</td>\n",
              "      <td>NaN</td>\n",
              "      <td>NaN</td>\n",
              "      <td>NaN</td>\n",
              "      <td>NaN</td>\n",
              "      <td>NaN</td>\n",
              "      <td>-1</td>\n",
              "      <td>-1</td>\n",
              "      <td>1</td>\n",
              "    </tr>\n",
              "  </tbody>\n",
              "</table>\n",
              "<p>1367 rows × 11 columns</p>\n",
              "</div>"
            ],
            "text/plain": [
              "                 Close  Predictions  ...  Direction Prediction  Compare\n",
              "Date                                 ...                               \n",
              "2014-10-17  188.470001   188.658905  ...                    -1        0\n",
              "2014-10-20  190.300003   188.182220  ...                     1        1\n",
              "2014-10-21  194.070007   188.425125  ...                     1        0\n",
              "2014-10-22  192.690002   189.592224  ...                     1        1\n",
              "2014-10-23  194.929993   190.751190  ...                     1        1\n",
              "...                ...          ...  ...                   ...      ...\n",
              "2020-03-18  240.000000   258.639496  ...                    -1        0\n",
              "2020-03-19  240.509995   252.981674  ...                    -1        1\n",
              "2020-03-20  228.800003   248.445724  ...                    -1        1\n",
              "2020-03-23  222.949997   243.080719  ...                    -1        0\n",
              "2020-03-24  243.149994   237.220840  ...                    -1        1\n",
              "\n",
              "[1367 rows x 11 columns]"
            ]
          },
          "metadata": {
            "tags": []
          },
          "execution_count": 33
        }
      ]
    },
    {
      "cell_type": "code",
      "metadata": {
        "id": "Sf5utx_y7_cv",
        "colab_type": "code",
        "colab": {}
      },
      "source": [
        ""
      ],
      "execution_count": 0,
      "outputs": []
    }
  ]
}